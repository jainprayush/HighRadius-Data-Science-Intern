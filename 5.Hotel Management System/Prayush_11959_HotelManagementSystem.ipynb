{
 "cells": [
  {
   "cell_type": "markdown",
   "metadata": {},
   "source": [
    "### HOTEL MANAGEMENT SYSTEM"
   ]
  },
  {
   "cell_type": "code",
   "execution_count": 1,
   "metadata": {},
   "outputs": [],
   "source": [
    "class Hotel:\n",
    "    def __init__(self, roomsAvail, roomsReserved, roomSearch):\n",
    "        self.roomsAvail=roomsAvail\n",
    "        self.roomsReserved=roomsReserved\n",
    "        self.roomSearch=roomSearch\n",
    "        \n",
    "roomsAvail=[]\n",
    "for i in range(1,101):\n",
    "    roomsAvail.append(i)\n",
    "\n",
    "roomsReserved=[]\n",
    "roomSearch={}\n",
    "\n",
    "\n",
    "h=Hotel(roomsAvail,roomsReserved,roomSearch)"
   ]
  },
  {
   "cell_type": "markdown",
   "metadata": {},
   "source": [
    "### Maintaining a database of customer"
   ]
  },
  {
   "cell_type": "code",
   "execution_count": 2,
   "metadata": {},
   "outputs": [],
   "source": [
    "dB={}\n",
    "\n",
    "class customer(Hotel):\n",
    "    def __init__(self,name,num,rooms,durationStay,bookedRooms):\n",
    "        self.name=name\n",
    "        self.num=num\n",
    "        self.rooms=rooms\n",
    "        self.durationStay=durationStay\n",
    "        self.bookedRooms=bookedRooms\n",
    "        \n",
    "    def fill_data(self):\n",
    "        key=self.name\n",
    "        dB[key]=[self.num,self.rooms,self.durationStay,self.bookedRooms]\n",
    "    "
   ]
  },
  {
   "cell_type": "markdown",
   "metadata": {},
   "source": [
    "#### Booking function which gives menu driven choices to user."
   ]
  },
  {
   "cell_type": "code",
   "execution_count": 3,
   "metadata": {},
   "outputs": [],
   "source": [
    "def booking():\n",
    "    while True:\n",
    "        print(\"1. No. of rooms available\")\n",
    "        print(\"2. No. of rooms reserved\")\n",
    "        print(\"3. Make a Booking\")\n",
    "        print(\"4. Go to previous menu\")\n",
    "        choice=int(input(\"Enter Your Choice : \"))\n",
    "        if(choice==1):\n",
    "            print(\"--> No. of rooms available are \",len(h.roomsAvail),\"\\n\\n\")\n",
    "        elif(choice==2):\n",
    "            print(\"--> No. of rooms reserved are \",len(h.roomsReserved),\"\\n\\n\")\n",
    "        elif(choice==3):\n",
    "            bookRooms()\n",
    "        elif(choice==4):\n",
    "            return\n",
    "        else:\n",
    "            print(\"Please Enter Valid Input.\")\n",
    "                      "
   ]
  },
  {
   "cell_type": "markdown",
   "metadata": {},
   "source": [
    "#### bookRooms function to book a new room."
   ]
  },
  {
   "cell_type": "code",
   "execution_count": 4,
   "metadata": {},
   "outputs": [],
   "source": [
    "def bookRooms():\n",
    "    print(\"Please Enter Your Details :\")\n",
    "    name=input(\"Customer Name : \")\n",
    "    num=input(\"Contact No. : \")\n",
    "    rooms=int(input(\"No. of Rooms you want to book : \"))\n",
    "    durationStay = int(input(\"Duration of your stay(in days) : \"))\n",
    "    \n",
    "    listRooms=[]\n",
    "    for i in range(0,rooms):\n",
    "        booked = h.roomsAvail.pop(0)\n",
    "        listRooms.append(booked)\n",
    "        h.roomSearch[booked] = name\n",
    "        h.roomsReserved.append(booked)\n",
    "        \n",
    "    c=customer(name,num,rooms,durationStay,listRooms)\n",
    "    c.fill_data()\n",
    "    \n",
    "    print(\"Successfully booked!\")\n",
    "    print(f\"Name : {name} , Contact No. : {dB[name][0]} , No. of rooms : {dB[name][1]} , Stay Duration : {dB[name][2]} days, Rooms booked : {dB[name][3]} \")"
   ]
  },
  {
   "cell_type": "markdown",
   "metadata": {},
   "source": [
    "### Menu driven enquiry function."
   ]
  },
  {
   "cell_type": "code",
   "execution_count": 5,
   "metadata": {},
   "outputs": [],
   "source": [
    "def enquiry():\n",
    "    while True:\n",
    "        print(\"1. Search by name of customer\")\n",
    "        print(\"2. Search by room number\")\n",
    "        print(\"3. Check for room availability\")\n",
    "        print(\"4. Go to previous menu\")\n",
    "        choice=int(input(\"Enter Your Choice : \"))\n",
    "        if(choice==1):\n",
    "            searchByCustomerName()\n",
    "        elif(choice==2):\n",
    "            searchByRoomNo()\n",
    "        elif(choice==3):\n",
    "            checkAvailability()\n",
    "        elif(choice==4):\n",
    "            return\n",
    "        else:\n",
    "            print(\"Please enter valid input\")\n",
    "            "
   ]
  },
  {
   "cell_type": "markdown",
   "metadata": {},
   "source": [
    "### searchByCustomerName function"
   ]
  },
  {
   "cell_type": "code",
   "execution_count": 6,
   "metadata": {},
   "outputs": [],
   "source": [
    "def searchByCustomerName():\n",
    "    name=input(\"Enter Name of Customer : \")\n",
    "    if name in dB.keys():\n",
    "        print(\"Record Found !\")\n",
    "        print(f\"Name : {name} , Contact No. : {dB[name][0]} , No. of rooms : {dB[name][1]} , Stay Duration : {dB[name][2]} days, Rooms booked : {dB[name][3]} \")\n",
    "        \n",
    "    else:\n",
    "        print(\"Record Not Found.\")\n",
    "        return"
   ]
  },
  {
   "cell_type": "markdown",
   "metadata": {},
   "source": [
    "### searchByRoomNo function"
   ]
  },
  {
   "cell_type": "code",
   "execution_count": 7,
   "metadata": {},
   "outputs": [],
   "source": [
    "def searchByRoomNo():\n",
    "    rnumber=int(input(\"Enter the Room number to be searched : \"))\n",
    "    if rnumber in h.roomSearch.keys():\n",
    "        print(f\"room {rnumber} has been booked by {h.roomSearch[rnumber]}\")\n",
    "        rname = h.roomSearch[rnumber]\n",
    "        print(f\"Name : {rname} , Contact No. : {dB[rname][0]} , No. of rooms : {dB[rname][1]} , Stay Duration : {dB[rname][2]} days, Rooms booked : {dB[rname][3]} \")\n",
    "        \n",
    "    elif(rnumber < 101 or rnumber > 150 ):          \n",
    "        print(\"Incorrect room number\")\n",
    "    else:\n",
    "        print(\"Room has not been booked\")"
   ]
  },
  {
   "cell_type": "markdown",
   "metadata": {},
   "source": [
    "### checkAvailability function to check if specific room is no available or not"
   ]
  },
  {
   "cell_type": "code",
   "execution_count": 8,
   "metadata": {},
   "outputs": [],
   "source": [
    "def checkAvailability():\n",
    "    roomCheck=int(input(\"Enter the Room number to be checked for availability : \"))\n",
    "    if roomCheck in h.roomsAvail:\n",
    "        print(f'room {roomCheck} is available')\n",
    "    elif roomCheck in h.roomsReserved:\n",
    "        print(f'room {roomCheck} is unavailable')\n",
    "    else:\n",
    "        print('Invalid room number')\n",
    "        return"
   ]
  },
  {
   "cell_type": "markdown",
   "metadata": {},
   "source": [
    "# Menu driven Hotel Management System"
   ]
  },
  {
   "cell_type": "code",
   "execution_count": 9,
   "metadata": {},
   "outputs": [],
   "source": [
    "def start():\n",
    "   \n",
    "    while True:\n",
    "        print(\"Home Menu :\")\n",
    "        print(\"1. Booking\")\n",
    "        print(\"2. Enquiry\")\n",
    "        print(\"3. Exit\")\n",
    "        choice=int(input(\"Enter Your Choice : \"))\n",
    "        if(choice==1):\n",
    "            booking()\n",
    "        elif(choice==2):\n",
    "            enquiry()\n",
    "        elif(choice==3):\n",
    "            print(\"Thank you for using the hotel management system!\")\n",
    "            break\n",
    "        else:\n",
    "            print(\"Please enter valid input.\")"
   ]
  },
  {
   "cell_type": "markdown",
   "metadata": {},
   "source": [
    "# <font color='red'>Welcome to R.K. Palace</font>"
   ]
  },
  {
   "cell_type": "code",
   "execution_count": 10,
   "metadata": {},
   "outputs": [
    {
     "name": "stdout",
     "output_type": "stream",
     "text": [
      "Home Menu :\n",
      "1. Booking\n",
      "2. Enquiry\n",
      "3. Exit\n",
      "Enter Your Choice : 1\n",
      "1. No. of rooms available\n",
      "2. No. of rooms reserved\n",
      "3. Make a Booking\n",
      "4. Go to previous menu\n",
      "Enter Your Choice : 1\n",
      "--> No. of rooms available are  100 \n",
      "\n",
      "1. No. of rooms available\n",
      "2. No. of rooms reserved\n",
      "3. Make a Booking\n",
      "4. Go to previous menu\n",
      "Enter Your Choice : 2\n",
      "--> No. of rooms reserved are  0 \n",
      "\n",
      "1. No. of rooms available\n",
      "2. No. of rooms reserved\n",
      "3. Make a Booking\n",
      "4. Go to previous menu\n",
      "Enter Your Choice : 3\n",
      "Please Enter Your Details :\n",
      "Customer Name : Prayush\n",
      "Contact No. : 9649991259\n",
      "No. of Rooms you want to book : 9\n",
      "Duration of your stay(in days) : 9\n",
      "Successfully booked!\n",
      "Name : Prayush , Contact No. : 9649991259 , No. of rooms : 9 , Stay Duration : 9 days, Rooms booked : [1, 2, 3, 4, 5, 6, 7, 8, 9] \n",
      "1. No. of rooms available\n",
      "2. No. of rooms reserved\n",
      "3. Make a Booking\n",
      "4. Go to previous menu\n",
      "Enter Your Choice : 4\n",
      "Home Menu :\n",
      "1. Booking\n",
      "2. Enquiry\n",
      "3. Exit\n",
      "Enter Your Choice : 2\n",
      "1. Search by name of customer\n",
      "2. Search by room number\n",
      "3. Check for room availability\n",
      "4. Go to previous menu\n",
      "Enter Your Choice : 1\n",
      "Enter Name of Customer : Prayush\n",
      "Record Found !\n",
      "Name : Prayush , Contact No. : 9649991259 , No. of rooms : 9 , Stay Duration : 9 days, Rooms booked : [1, 2, 3, 4, 5, 6, 7, 8, 9] \n",
      "1. Search by name of customer\n",
      "2. Search by room number\n",
      "3. Check for room availability\n",
      "4. Go to previous menu\n",
      "Enter Your Choice : 2\n",
      "Enter the Room number to be searched : 9\n",
      "room 9 has been booked by Prayush\n",
      "Name : Prayush , Contact No. : 9649991259 , No. of rooms : 9 , Stay Duration : 9 days, Rooms booked : [1, 2, 3, 4, 5, 6, 7, 8, 9] \n",
      "1. Search by name of customer\n",
      "2. Search by room number\n",
      "3. Check for room availability\n",
      "4. Go to previous menu\n",
      "Enter Your Choice : 3\n",
      "Enter the Room number to be checked for availability : 9\n",
      "room 9 is unavailable\n",
      "1. Search by name of customer\n",
      "2. Search by room number\n",
      "3. Check for room availability\n",
      "4. Go to previous menu\n",
      "Enter Your Choice : 4\n",
      "Home Menu :\n",
      "1. Booking\n",
      "2. Enquiry\n",
      "3. Exit\n",
      "Enter Your Choice : 3\n",
      "Thank you for using the hotel management system!\n"
     ]
    }
   ],
   "source": [
    "start()"
   ]
  },
  {
   "cell_type": "code",
   "execution_count": null,
   "metadata": {},
   "outputs": [],
   "source": []
  }
 ],
 "metadata": {
  "kernelspec": {
   "display_name": "Python 3",
   "language": "python",
   "name": "python3"
  },
  "language_info": {
   "codemirror_mode": {
    "name": "ipython",
    "version": 3
   },
   "file_extension": ".py",
   "mimetype": "text/x-python",
   "name": "python",
   "nbconvert_exporter": "python",
   "pygments_lexer": "ipython3",
   "version": "3.7.7"
  }
 },
 "nbformat": 4,
 "nbformat_minor": 4
}
